{
 "cells": [
  {
   "cell_type": "code",
   "execution_count": null,
   "id": "convinced-microwave",
   "metadata": {},
   "outputs": [],
   "source": [
    "import requests"
   ]
  },
  {
   "cell_type": "code",
   "execution_count": null,
   "id": "ignored-buyer",
   "metadata": {},
   "outputs": [],
   "source": [
    "url = 'https://books.toscrape.com/'\n",
    "headers = {\n",
    "    'User-Agent': 'my user agnet mozilla'\n",
    "}\n",
    "response = requests.get(url)\n",
    "if response.status_code == 200:\n",
    "    print(response.content)\n",
    "else:\n",
    "    print(f'Ошибка: {response.status_code}')"
   ]
  },
  {
   "cell_type": "code",
   "execution_count": null,
   "id": "outstanding-contributor",
   "metadata": {},
   "outputs": [],
   "source": [
    "link = 'https://api.openweathermap.org/data/2.5/weather?q=Moscow&appid=9d8daa41b29a6b976af2c3e0eb804272&'\n",
    "r = requests.get(link)\n",
    "r.status_code"
   ]
  },
  {
   "cell_type": "code",
   "execution_count": null,
   "id": "valued-gothic",
   "metadata": {},
   "outputs": [],
   "source": [
    "link = 'https://api.openweathermap.org/data/2.5/weather'\n",
    "params = {\n",
    "    'q': 'Moscow',\n",
    "    'appid': '9d8daa41b29a6b976af2c3e0eb804272'\n",
    "}\n",
    "response = requests.get(link, params=params)"
   ]
  },
  {
   "cell_type": "code",
   "execution_count": null,
   "id": "multiple-visitor",
   "metadata": {},
   "outputs": [],
   "source": [
    "url = 'https://api.hh.ru/vacancies'\n",
    "params = {\n",
    "    'text': 'Data Science'\n",
    "}\n",
    "r = requests.get(url, params=params)\n",
    "r.status_code"
   ]
  },
  {
   "cell_type": "code",
   "execution_count": null,
   "id": "environmental-lecture",
   "metadata": {},
   "outputs": [],
   "source": [
    "r.json()"
   ]
  },
  {
   "cell_type": "code",
   "execution_count": null,
   "id": "southern-appliance",
   "metadata": {},
   "outputs": [],
   "source": [
    "import json\n",
    "with open('hh_vacancies.json', 'w') as jf:\n",
    "    json.dump(r.json(), jf)"
   ]
  },
  {
   "cell_type": "code",
   "execution_count": null,
   "id": "absolute-suggestion",
   "metadata": {},
   "outputs": [],
   "source": [
    "url = 'https://api.hh.ru/vacancies?text=Data Science'\n",
    "r = requests.get(url)\n",
    "if r.status_code == 200:\n",
    "    if 'items' in list(r.json().keys()):\n",
    "        "
   ]
  },
  {
   "cell_type": "code",
   "execution_count": null,
   "id": "undefined-chance",
   "metadata": {},
   "outputs": [],
   "source": [
    "r.json()"
   ]
  },
  {
   "cell_type": "code",
   "execution_count": null,
   "id": "checked-ticket",
   "metadata": {},
   "outputs": [],
   "source": [
    "url = 'https://api.hh.ru/vacancies?text=&vac_id=&city=Moscow'\n",
    "r = requests.get(url)\n",
    "r.status_code"
   ]
  },
  {
   "cell_type": "code",
   "execution_count": null,
   "id": "collect-trace",
   "metadata": {},
   "outputs": [],
   "source": [
    "r.json()"
   ]
  },
  {
   "cell_type": "code",
   "execution_count": null,
   "id": "acquired-butter",
   "metadata": {},
   "outputs": [],
   "source": []
  }
 ],
 "metadata": {
  "kernelspec": {
   "display_name": "Python 3 (ipykernel)",
   "language": "python",
   "name": "python3"
  },
  "language_info": {
   "codemirror_mode": {
    "name": "ipython",
    "version": 3
   },
   "file_extension": ".py",
   "mimetype": "text/x-python",
   "name": "python",
   "nbconvert_exporter": "python",
   "pygments_lexer": "ipython3",
   "version": "3.9.7"
  }
 },
 "nbformat": 4,
 "nbformat_minor": 5
}
