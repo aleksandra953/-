{
 "cells": [
  {
   "cell_type": "code",
   "execution_count": 5,
   "id": "6a7ad20d",
   "metadata": {},
   "outputs": [],
   "source": [
    "import requests\n",
    "from bs4 import BeautifulSoup as bs"
   ]
  },
  {
   "cell_type": "code",
   "execution_count": 6,
   "id": "a5a5053a",
   "metadata": {},
   "outputs": [
    {
     "data": {
      "text/plain": [
       "200"
      ]
     },
     "execution_count": 6,
     "metadata": {},
     "output_type": "execute_result"
    }
   ],
   "source": [
    "url = 'https://quotes.toscrape.com/'\n",
    "r = requests.get(url)\n",
    "r.status_code"
   ]
  },
  {
   "cell_type": "code",
   "execution_count": 7,
   "id": "1ff7a050",
   "metadata": {},
   "outputs": [],
   "source": [
    "html = bs(r.content, 'html.parser')"
   ]
  },
  {
   "cell_type": "code",
   "execution_count": 8,
   "id": "9b6c97bd",
   "metadata": {},
   "outputs": [
    {
     "data": {
      "text/plain": [
       "10"
      ]
     },
     "execution_count": 8,
     "metadata": {},
     "output_type": "execute_result"
    }
   ],
   "source": [
    "quotes = html.select('div[class=quote]')\n",
    "len(quotes)"
   ]
  },
  {
   "cell_type": "code",
   "execution_count": 76,
   "id": "ee59410d",
   "metadata": {},
   "outputs": [
    {
     "name": "stdout",
     "output_type": "stream",
     "text": [
      "“The world as we have created it is a process of our thinking. It cannot be changed without changing our thinking.” , Author:Albert Einstein , tags: change,deep-thoughts,thinking,world\n",
      "“It is our choices, Harry, that show what we truly are, far more than our abilities.” , Author:J.K. Rowling , tags: abilities,choices\n",
      "“There are only two ways to live your life. One is as though nothing is a miracle. The other is as though everything is a miracle.” , Author:Albert Einstein , tags: inspirational,life,live,miracle,miracles\n",
      "“The person, be it gentleman or lady, who has not pleasure in a good novel, must be intolerably stupid.” , Author:Jane Austen , tags: aliteracy,books,classic,humor\n",
      "“Imperfection is beauty, madness is genius and it's better to be absolutely ridiculous than absolutely boring.” , Author:Marilyn Monroe , tags: be-yourself,inspirational\n",
      "“Try not to become a man of success. Rather become a man of value.” , Author:Albert Einstein , tags: adulthood,success,value\n",
      "“It is better to be hated for what you are than to be loved for what you are not.” , Author:André Gide , tags: life,love\n",
      "“I have not failed. I've just found 10,000 ways that won't work.” , Author:Thomas A. Edison , tags: edison,failure,inspirational,paraphrased\n",
      "“A woman is like a tea bag; you never know how strong it is until it's in hot water.” , Author:Eleanor Roosevelt , tags: misattributed-eleanor-roosevelt\n",
      "“A day without sunshine is like, you know, night.” , Author:Steve Martin , tags: humor,obvious,simile\n"
     ]
    }
   ],
   "source": [
    "for quote in quotes:\n",
    "    text = quote.find('span', class_='text').text\n",
    "    author = ', Author:' + quote.select_one('small[class=author]').text\n",
    "    tags = ', tags: ' + quote.find('meta', class_='keywords')['content']\n",
    " \n",
    "    print(text, author, tags)"
   ]
  },
  {
   "cell_type": "code",
   "execution_count": 77,
   "id": "513f5b98",
   "metadata": {},
   "outputs": [
    {
     "name": "stdout",
     "output_type": "stream",
     "text": [
      "[{'Quote': '“The world as we have created it is a process of our thinking. It cannot be changed without changing our thinking.”', 'Author': 'Albert Einstein', 'Tags': 'change,deep-thoughts,thinking,world'}, {'Quote': '“It is our choices, Harry, that show what we truly are, far more than our abilities.”', 'Author': 'J.K. Rowling', 'Tags': 'abilities,choices'}, {'Quote': '“There are only two ways to live your life. One is as though nothing is a miracle. The other is as though everything is a miracle.”', 'Author': 'Albert Einstein', 'Tags': 'inspirational,life,live,miracle,miracles'}, {'Quote': '“The person, be it gentleman or lady, who has not pleasure in a good novel, must be intolerably stupid.”', 'Author': 'Jane Austen', 'Tags': 'aliteracy,books,classic,humor'}, {'Quote': \"“Imperfection is beauty, madness is genius and it's better to be absolutely ridiculous than absolutely boring.”\", 'Author': 'Marilyn Monroe', 'Tags': 'be-yourself,inspirational'}, {'Quote': '“Try not to become a man of success. Rather become a man of value.”', 'Author': 'Albert Einstein', 'Tags': 'adulthood,success,value'}, {'Quote': '“It is better to be hated for what you are than to be loved for what you are not.”', 'Author': 'André Gide', 'Tags': 'life,love'}, {'Quote': \"“I have not failed. I've just found 10,000 ways that won't work.”\", 'Author': 'Thomas A. Edison', 'Tags': 'edison,failure,inspirational,paraphrased'}, {'Quote': \"“A woman is like a tea bag; you never know how strong it is until it's in hot water.”\", 'Author': 'Eleanor Roosevelt', 'Tags': 'misattributed-eleanor-roosevelt'}, {'Quote': '“A day without sunshine is like, you know, night.”', 'Author': 'Steve Martin', 'Tags': 'humor,obvious,simile'}]\n"
     ]
    }
   ],
   "source": [
    "final_quotes = []\n",
    "for quote in quotes:\n",
    "    text = quote.find('span', class_='text').text\n",
    "    author = quote.select_one('small[class=author]').text\n",
    "    tags = quote.find('meta', class_='keywords')['content']\n",
    "    quotes_dict = {\n",
    "        'Quote': text,\n",
    "        'Author': author,\n",
    "        'Tags': tags\n",
    "    }\n",
    "    final_quotes.append(quotes_dict)\n",
    "\n",
    "print(final_quotes)"
   ]
  },
  {
   "cell_type": "code",
   "execution_count": 93,
   "id": "721939a4",
   "metadata": {},
   "outputs": [],
   "source": [
    "import json\n",
    "with open('quotes.json', 'w') as jf:\n",
    "    json.dump(final_quotes, jf)"
   ]
  },
  {
   "cell_type": "code",
   "execution_count": 94,
   "id": "5cc89bed",
   "metadata": {},
   "outputs": [
    {
     "ename": "TypeError",
     "evalue": "'NoneType' object is not subscriptable",
     "output_type": "error",
     "traceback": [
      "\u001b[1;31m---------------------------------------------------------------------------\u001b[0m",
      "\u001b[1;31mTypeError\u001b[0m                                 Traceback (most recent call last)",
      "\u001b[1;32mC:\\Users\\83C6~1\\AppData\\Local\\Temp/ipykernel_17776/851123136.py\u001b[0m in \u001b[0;36m<module>\u001b[1;34m\u001b[0m\n\u001b[1;32m----> 1\u001b[1;33m \u001b[0mnext_button\u001b[0m \u001b[1;33m=\u001b[0m \u001b[0mhtml\u001b[0m\u001b[1;33m.\u001b[0m\u001b[0mfind\u001b[0m\u001b[1;33m(\u001b[0m\u001b[1;34m'a'\u001b[0m\u001b[1;33m,\u001b[0m \u001b[0mstring\u001b[0m\u001b[1;33m=\u001b[0m\u001b[1;34m'Next '\u001b[0m\u001b[1;33m)\u001b[0m\u001b[1;33m[\u001b[0m\u001b[1;34m'href'\u001b[0m\u001b[1;33m]\u001b[0m\u001b[1;33m\u001b[0m\u001b[1;33m\u001b[0m\u001b[0m\n\u001b[0m\u001b[0;32m      2\u001b[0m \u001b[0mnext_button\u001b[0m\u001b[1;33m\u001b[0m\u001b[1;33m\u001b[0m\u001b[0m\n",
      "\u001b[1;31mTypeError\u001b[0m: 'NoneType' object is not subscriptable"
     ]
    }
   ],
   "source": [
    "next_button = html.find('a', string='Next ')['href']\n",
    "next_button"
   ]
  },
  {
   "cell_type": "code",
   "execution_count": null,
   "id": "335e89bb",
   "metadata": {},
   "outputs": [],
   "source": []
  }
 ],
 "metadata": {
  "kernelspec": {
   "display_name": "Python 3 (ipykernel)",
   "language": "python",
   "name": "python3"
  },
  "language_info": {
   "codemirror_mode": {
    "name": "ipython",
    "version": 3
   },
   "file_extension": ".py",
   "mimetype": "text/x-python",
   "name": "python",
   "nbconvert_exporter": "python",
   "pygments_lexer": "ipython3",
   "version": "3.9.7"
  }
 },
 "nbformat": 4,
 "nbformat_minor": 5
}
