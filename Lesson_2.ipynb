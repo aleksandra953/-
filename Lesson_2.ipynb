{
 "cells": [
  {
   "cell_type": "code",
   "execution_count": 17,
   "id": "bacterial-villa",
   "metadata": {},
   "outputs": [],
   "source": [
    "import requests\n",
    "from lxml import html"
   ]
  },
  {
   "cell_type": "code",
   "execution_count": 18,
   "id": "subjective-fabric",
   "metadata": {},
   "outputs": [
    {
     "data": {
      "text/plain": [
       "200"
      ]
     },
     "execution_count": 18,
     "metadata": {},
     "output_type": "execute_result"
    }
   ],
   "source": [
    "url = 'https://books.toscrape.com/'\n",
    "r = requests.get(url)\n",
    "r.status_code"
   ]
  },
  {
   "cell_type": "code",
   "execution_count": 21,
   "id": "mexican-secondary",
   "metadata": {},
   "outputs": [],
   "source": [
    "body = html.fromstring(r.content)"
   ]
  },
  {
   "cell_type": "code",
   "execution_count": 27,
   "id": "sapphire-mentor",
   "metadata": {},
   "outputs": [],
   "source": [
    "first_books = body.xpath(\"//article[@class='product_pod']\")"
   ]
  },
  {
   "cell_type": "code",
   "execution_count": 23,
   "id": "vulnerable-glasgow",
   "metadata": {},
   "outputs": [],
   "source": [
    "second_books = body.xpath(\"//article[contains(@class, 'product_pod')]\")"
   ]
  },
  {
   "cell_type": "code",
   "execution_count": 28,
   "id": "working-algeria",
   "metadata": {},
   "outputs": [
    {
     "data": {
      "text/plain": [
       "20"
      ]
     },
     "execution_count": 28,
     "metadata": {},
     "output_type": "execute_result"
    }
   ],
   "source": [
    "len(first_books)"
   ]
  },
  {
   "cell_type": "code",
   "execution_count": 26,
   "id": "rocky-george",
   "metadata": {},
   "outputs": [
    {
     "data": {
      "text/plain": [
       "20"
      ]
     },
     "execution_count": 26,
     "metadata": {},
     "output_type": "execute_result"
    }
   ],
   "source": [
    "len(second_books)"
   ]
  },
  {
   "cell_type": "code",
   "execution_count": 29,
   "id": "latest-graduate",
   "metadata": {},
   "outputs": [
    {
     "data": {
      "text/plain": [
       "<Element article at 0x7faed6bcdbd0>"
      ]
     },
     "execution_count": 29,
     "metadata": {},
     "output_type": "execute_result"
    }
   ],
   "source": [
    "first_book = first_books[0]\n",
    "first_book"
   ]
  },
  {
   "cell_type": "code",
   "execution_count": 33,
   "id": "center-things",
   "metadata": {},
   "outputs": [
    {
     "data": {
      "text/plain": [
       "'https://books.toscrape.com/media/cache/2c/da/2cdad67c44b002e7ead0cc35693c0e8b.jpg'"
      ]
     },
     "execution_count": 33,
     "metadata": {},
     "output_type": "execute_result"
    }
   ],
   "source": [
    "image = 'https://books.toscrape.com/' + first_book.xpath(\".//img/@src\")[0]\n",
    "image"
   ]
  },
  {
   "cell_type": "code",
   "execution_count": 34,
   "id": "third-postcard",
   "metadata": {},
   "outputs": [
    {
     "data": {
      "text/plain": [
       "['A Light in the Attic']"
      ]
     },
     "execution_count": 34,
     "metadata": {},
     "output_type": "execute_result"
    }
   ],
   "source": [
    "title = first_book.xpath(\".//h3/a/@title\")\n",
    "title"
   ]
  },
  {
   "cell_type": "code",
   "execution_count": 35,
   "id": "wrapped-scanning",
   "metadata": {},
   "outputs": [
    {
     "data": {
      "text/plain": [
       "['£51.77']"
      ]
     },
     "execution_count": 35,
     "metadata": {},
     "output_type": "execute_result"
    }
   ],
   "source": [
    "price = first_book.xpath(\".//p[@class='price_color']/text()\")\n",
    "price"
   ]
  },
  {
   "cell_type": "code",
   "execution_count": 36,
   "id": "neural-utilization",
   "metadata": {},
   "outputs": [],
   "source": [
    "final_list = []\n",
    "for article in first_books:\n",
    "    image = 'https://books.toscrape.com/' + article.xpath(\".//div[@class='image_container']/a/img/@src\")[0]\n",
    "    title = article.xpath(\".//h3/a/@title\")[0]\n",
    "    price = article.xpath(\".//p[@class='price_color']/text()\")[0]\n",
    "    \n",
    "    book = {\n",
    "        'image': image,\n",
    "        'title': title,\n",
    "        'price': price\n",
    "    }\n",
    "    final_list.append(book)"
   ]
  },
  {
   "cell_type": "code",
   "execution_count": 37,
   "id": "verified-robinson",
   "metadata": {},
   "outputs": [
    {
     "data": {
      "text/plain": [
       "[{'image': 'https://books.toscrape.com/media/cache/2c/da/2cdad67c44b002e7ead0cc35693c0e8b.jpg',\n",
       "  'title': 'A Light in the Attic',\n",
       "  'price': '£51.77'},\n",
       " {'image': 'https://books.toscrape.com/media/cache/26/0c/260c6ae16bce31c8f8c95daddd9f4a1c.jpg',\n",
       "  'title': 'Tipping the Velvet',\n",
       "  'price': '£53.74'},\n",
       " {'image': 'https://books.toscrape.com/media/cache/3e/ef/3eef99c9d9adef34639f510662022830.jpg',\n",
       "  'title': 'Soumission',\n",
       "  'price': '£50.10'},\n",
       " {'image': 'https://books.toscrape.com/media/cache/32/51/3251cf3a3412f53f339e42cac2134093.jpg',\n",
       "  'title': 'Sharp Objects',\n",
       "  'price': '£47.82'},\n",
       " {'image': 'https://books.toscrape.com/media/cache/be/a5/bea5697f2534a2f86a3ef27b5a8c12a6.jpg',\n",
       "  'title': 'Sapiens: A Brief History of Humankind',\n",
       "  'price': '£54.23'},\n",
       " {'image': 'https://books.toscrape.com/media/cache/68/33/68339b4c9bc034267e1da611ab3b34f8.jpg',\n",
       "  'title': 'The Requiem Red',\n",
       "  'price': '£22.65'},\n",
       " {'image': 'https://books.toscrape.com/media/cache/92/27/92274a95b7c251fea59a2b8a78275ab4.jpg',\n",
       "  'title': 'The Dirty Little Secrets of Getting Your Dream Job',\n",
       "  'price': '£33.34'},\n",
       " {'image': 'https://books.toscrape.com/media/cache/3d/54/3d54940e57e662c4dd1f3ff00c78cc64.jpg',\n",
       "  'title': 'The Coming Woman: A Novel Based on the Life of the Infamous Feminist, Victoria Woodhull',\n",
       "  'price': '£17.93'},\n",
       " {'image': 'https://books.toscrape.com/media/cache/66/88/66883b91f6804b2323c8369331cb7dd1.jpg',\n",
       "  'title': 'The Boys in the Boat: Nine Americans and Their Epic Quest for Gold at the 1936 Berlin Olympics',\n",
       "  'price': '£22.60'},\n",
       " {'image': 'https://books.toscrape.com/media/cache/58/46/5846057e28022268153beff6d352b06c.jpg',\n",
       "  'title': 'The Black Maria',\n",
       "  'price': '£52.15'},\n",
       " {'image': 'https://books.toscrape.com/media/cache/be/f4/bef44da28c98f905a3ebec0b87be8530.jpg',\n",
       "  'title': 'Starving Hearts (Triangular Trade Trilogy, #1)',\n",
       "  'price': '£13.99'},\n",
       " {'image': 'https://books.toscrape.com/media/cache/10/48/1048f63d3b5061cd2f424d20b3f9b666.jpg',\n",
       "  'title': \"Shakespeare's Sonnets\",\n",
       "  'price': '£20.66'},\n",
       " {'image': 'https://books.toscrape.com/media/cache/5b/88/5b88c52633f53cacf162c15f4f823153.jpg',\n",
       "  'title': 'Set Me Free',\n",
       "  'price': '£17.46'},\n",
       " {'image': 'https://books.toscrape.com/media/cache/94/b1/94b1b8b244bce9677c2f29ccc890d4d2.jpg',\n",
       "  'title': \"Scott Pilgrim's Precious Little Life (Scott Pilgrim #1)\",\n",
       "  'price': '£52.29'},\n",
       " {'image': 'https://books.toscrape.com/media/cache/81/c4/81c4a973364e17d01f217e1188253d5e.jpg',\n",
       "  'title': 'Rip it Up and Start Again',\n",
       "  'price': '£35.02'},\n",
       " {'image': 'https://books.toscrape.com/media/cache/54/60/54607fe8945897cdcced0044103b10b6.jpg',\n",
       "  'title': 'Our Band Could Be Your Life: Scenes from the American Indie Underground, 1981-1991',\n",
       "  'price': '£57.25'},\n",
       " {'image': 'https://books.toscrape.com/media/cache/55/33/553310a7162dfbc2c6d19a84da0df9e1.jpg',\n",
       "  'title': 'Olio',\n",
       "  'price': '£23.88'},\n",
       " {'image': 'https://books.toscrape.com/media/cache/09/a3/09a3aef48557576e1a85ba7efea8ecb7.jpg',\n",
       "  'title': 'Mesaerion: The Best Science Fiction Stories 1800-1849',\n",
       "  'price': '£37.59'},\n",
       " {'image': 'https://books.toscrape.com/media/cache/0b/bc/0bbcd0a6f4bcd81ccb1049a52736406e.jpg',\n",
       "  'title': 'Libertarianism for Beginners',\n",
       "  'price': '£51.33'},\n",
       " {'image': 'https://books.toscrape.com/media/cache/27/a5/27a53d0bb95bdd88288eaf66c9230d7e.jpg',\n",
       "  'title': \"It's Only the Himalayas\",\n",
       "  'price': '£45.17'}]"
      ]
     },
     "execution_count": 37,
     "metadata": {},
     "output_type": "execute_result"
    }
   ],
   "source": [
    "final_list"
   ]
  },
  {
   "cell_type": "code",
   "execution_count": null,
   "id": "flush-portugal",
   "metadata": {},
   "outputs": [],
   "source": [
    "for page in range(1, 51):\n",
    "    url = f'https://books.toscrape.com/catalogue/page-{page}.html'\n",
    "    r = requests.get(url)\n",
    "    if r.status_code == 200:\n",
    "        parse...\n",
    "    else:\n",
    "        print(f'Error: {r.status_code}')"
   ]
  },
  {
   "cell_type": "code",
   "execution_count": null,
   "id": "cellular-vegetarian",
   "metadata": {},
   "outputs": [],
   "source": [
    "divs = html.xpath(\"//div\")\n",
    "for div in divs:\n",
    "    text = div(\".//text()\")\n",
    "    if"
   ]
  }
 ],
 "metadata": {
  "kernelspec": {
   "display_name": "Python 3",
   "language": "python",
   "name": "python3"
  },
  "language_info": {
   "codemirror_mode": {
    "name": "ipython",
    "version": 3
   },
   "file_extension": ".py",
   "mimetype": "text/x-python",
   "name": "python",
   "nbconvert_exporter": "python",
   "pygments_lexer": "ipython3",
   "version": "3.8.7"
  }
 },
 "nbformat": 4,
 "nbformat_minor": 5
}
